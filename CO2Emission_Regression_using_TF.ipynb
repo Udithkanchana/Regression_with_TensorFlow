{
  "nbformat": 4,
  "nbformat_minor": 0,
  "metadata": {
    "colab": {
      "provenance": []
    },
    "kernelspec": {
      "name": "python3",
      "display_name": "Python 3"
    },
    "language_info": {
      "name": "python"
    }
  },
  "cells": [
    {
      "cell_type": "code",
      "source": [
        "from google.colab import drive\n",
        "\n",
        "drive.mount('/content/gdrive/', force_remount=True)"
      ],
      "metadata": {
        "colab": {
          "base_uri": "https://localhost:8080/"
        },
        "id": "n5zA-KwdcNhP",
        "outputId": "0b910047-42ee-46d5-b8ee-934831c68878"
      },
      "execution_count": 1,
      "outputs": [
        {
          "output_type": "stream",
          "name": "stdout",
          "text": [
            "Mounted at /content/gdrive/\n"
          ]
        }
      ]
    },
    {
      "cell_type": "code",
      "source": [
        "%cd /content/gdrive/MyDrive/SLIIT/Data_Science/Data_Science_Projects/Coursera Projects/TensorFlow/IBM Course of TensorFlow"
      ],
      "metadata": {
        "colab": {
          "base_uri": "https://localhost:8080/"
        },
        "id": "TCnEfbcteFgB",
        "outputId": "91092f05-0340-47fb-b44b-d38e915e0f37"
      },
      "execution_count": 2,
      "outputs": [
        {
          "output_type": "stream",
          "name": "stdout",
          "text": [
            "/content/gdrive/MyDrive/SLIIT/Data_Science/Data_Science_Projects/Coursera Projects/TensorFlow/IBM Course of TensorFlow\n"
          ]
        }
      ]
    },
    {
      "cell_type": "code",
      "source": [
        "import numpy as np\n",
        "import pandas as pd\n",
        "\n",
        "#import the csv while parsing the dates (if the data type of date is not in datetime, this will change it to that)\n",
        "df = pd.read_csv('2023_Fuel_Consumption_Ratings.csv', encoding='latin-1')"
      ],
      "metadata": {
        "id": "re95649ucUQN"
      },
      "execution_count": 4,
      "outputs": []
    },
    {
      "cell_type": "code",
      "source": [
        "df.isnull().any()"
      ],
      "metadata": {
        "colab": {
          "base_uri": "https://localhost:8080/"
        },
        "id": "M8K44hpw9_Cl",
        "outputId": "bbe8a3bf-6c1f-4051-cf0d-270676dfbe8d"
      },
      "execution_count": 6,
      "outputs": [
        {
          "output_type": "execute_result",
          "data": {
            "text/plain": [
              "Model year              False\n",
              "Make                    False\n",
              "Model                   False\n",
              "Vehicle class           False\n",
              "Engine size (L)         False\n",
              "Cylinders               False\n",
              "Transmission            False\n",
              "Fuel type               False\n",
              "City (L/100 km)         False\n",
              "Highway (L/100 km)      False\n",
              "Combined (L/100 km)     False\n",
              "Combined (mpg)          False\n",
              "CO2 emissions (g/km)    False\n",
              "CO2 rating              False\n",
              "Smog rating             False\n",
              "dtype: bool"
            ]
          },
          "metadata": {},
          "execution_count": 6
        }
      ]
    },
    {
      "cell_type": "code",
      "source": [
        "df.head()"
      ],
      "metadata": {
        "colab": {
          "base_uri": "https://localhost:8080/",
          "height": 206
        },
        "id": "x35yxQWG_IHA",
        "outputId": "fb2a2513-9ecc-4c9d-bb0c-9313c951e6d6"
      },
      "execution_count": 7,
      "outputs": [
        {
          "output_type": "execute_result",
          "data": {
            "text/plain": [
              "   Model year   Make              Model                    Vehicle class  \\\n",
              "0        2023  Acura            Integra                        Full-size   \n",
              "1        2023  Acura     Integra A-SPEC                        Full-size   \n",
              "2        2023  Acura     Integra A-SPEC                        Full-size   \n",
              "3        2023  Acura         MDX SH-AWD     Sport utility vehicle: Small   \n",
              "4        2023  Acura  MDX SH-AWD Type S  Sport utility vehicle: Standard   \n",
              "\n",
              "   Engine size (L)  Cylinders Transmission Fuel type  City (L/100 km)  \\\n",
              "0              1.5          4          AV7         Z              7.9   \n",
              "1              1.5          4          AV7         Z              8.1   \n",
              "2              1.5          4           M6         Z              8.9   \n",
              "3              3.5          6         AS10         Z             12.6   \n",
              "4              3.0          6         AS10         Z             13.8   \n",
              "\n",
              "   Highway (L/100 km)  Combined (L/100 km)  Combined (mpg)  \\\n",
              "0                 6.3                  7.2              39   \n",
              "1                 6.5                  7.4              38   \n",
              "2                 6.5                  7.8              36   \n",
              "3                 9.4                 11.2              25   \n",
              "4                11.2                 12.4              23   \n",
              "\n",
              "   CO2 emissions (g/km)  CO2 rating  Smog rating  \n",
              "0                   167           6            7  \n",
              "1                   172           6            7  \n",
              "2                   181           6            6  \n",
              "3                   263           4            5  \n",
              "4                   291           4            5  "
            ],
            "text/html": [
              "\n",
              "  <div id=\"df-4de5b0c7-1eff-4f7a-ba85-27a457932ee5\" class=\"colab-df-container\">\n",
              "    <div>\n",
              "<style scoped>\n",
              "    .dataframe tbody tr th:only-of-type {\n",
              "        vertical-align: middle;\n",
              "    }\n",
              "\n",
              "    .dataframe tbody tr th {\n",
              "        vertical-align: top;\n",
              "    }\n",
              "\n",
              "    .dataframe thead th {\n",
              "        text-align: right;\n",
              "    }\n",
              "</style>\n",
              "<table border=\"1\" class=\"dataframe\">\n",
              "  <thead>\n",
              "    <tr style=\"text-align: right;\">\n",
              "      <th></th>\n",
              "      <th>Model year</th>\n",
              "      <th>Make</th>\n",
              "      <th>Model</th>\n",
              "      <th>Vehicle class</th>\n",
              "      <th>Engine size (L)</th>\n",
              "      <th>Cylinders</th>\n",
              "      <th>Transmission</th>\n",
              "      <th>Fuel type</th>\n",
              "      <th>City (L/100 km)</th>\n",
              "      <th>Highway (L/100 km)</th>\n",
              "      <th>Combined (L/100 km)</th>\n",
              "      <th>Combined (mpg)</th>\n",
              "      <th>CO2 emissions (g/km)</th>\n",
              "      <th>CO2 rating</th>\n",
              "      <th>Smog rating</th>\n",
              "    </tr>\n",
              "  </thead>\n",
              "  <tbody>\n",
              "    <tr>\n",
              "      <th>0</th>\n",
              "      <td>2023</td>\n",
              "      <td>Acura</td>\n",
              "      <td>Integra</td>\n",
              "      <td>Full-size</td>\n",
              "      <td>1.5</td>\n",
              "      <td>4</td>\n",
              "      <td>AV7</td>\n",
              "      <td>Z</td>\n",
              "      <td>7.9</td>\n",
              "      <td>6.3</td>\n",
              "      <td>7.2</td>\n",
              "      <td>39</td>\n",
              "      <td>167</td>\n",
              "      <td>6</td>\n",
              "      <td>7</td>\n",
              "    </tr>\n",
              "    <tr>\n",
              "      <th>1</th>\n",
              "      <td>2023</td>\n",
              "      <td>Acura</td>\n",
              "      <td>Integra A-SPEC</td>\n",
              "      <td>Full-size</td>\n",
              "      <td>1.5</td>\n",
              "      <td>4</td>\n",
              "      <td>AV7</td>\n",
              "      <td>Z</td>\n",
              "      <td>8.1</td>\n",
              "      <td>6.5</td>\n",
              "      <td>7.4</td>\n",
              "      <td>38</td>\n",
              "      <td>172</td>\n",
              "      <td>6</td>\n",
              "      <td>7</td>\n",
              "    </tr>\n",
              "    <tr>\n",
              "      <th>2</th>\n",
              "      <td>2023</td>\n",
              "      <td>Acura</td>\n",
              "      <td>Integra A-SPEC</td>\n",
              "      <td>Full-size</td>\n",
              "      <td>1.5</td>\n",
              "      <td>4</td>\n",
              "      <td>M6</td>\n",
              "      <td>Z</td>\n",
              "      <td>8.9</td>\n",
              "      <td>6.5</td>\n",
              "      <td>7.8</td>\n",
              "      <td>36</td>\n",
              "      <td>181</td>\n",
              "      <td>6</td>\n",
              "      <td>6</td>\n",
              "    </tr>\n",
              "    <tr>\n",
              "      <th>3</th>\n",
              "      <td>2023</td>\n",
              "      <td>Acura</td>\n",
              "      <td>MDX SH-AWD</td>\n",
              "      <td>Sport utility vehicle: Small</td>\n",
              "      <td>3.5</td>\n",
              "      <td>6</td>\n",
              "      <td>AS10</td>\n",
              "      <td>Z</td>\n",
              "      <td>12.6</td>\n",
              "      <td>9.4</td>\n",
              "      <td>11.2</td>\n",
              "      <td>25</td>\n",
              "      <td>263</td>\n",
              "      <td>4</td>\n",
              "      <td>5</td>\n",
              "    </tr>\n",
              "    <tr>\n",
              "      <th>4</th>\n",
              "      <td>2023</td>\n",
              "      <td>Acura</td>\n",
              "      <td>MDX SH-AWD Type S</td>\n",
              "      <td>Sport utility vehicle: Standard</td>\n",
              "      <td>3.0</td>\n",
              "      <td>6</td>\n",
              "      <td>AS10</td>\n",
              "      <td>Z</td>\n",
              "      <td>13.8</td>\n",
              "      <td>11.2</td>\n",
              "      <td>12.4</td>\n",
              "      <td>23</td>\n",
              "      <td>291</td>\n",
              "      <td>4</td>\n",
              "      <td>5</td>\n",
              "    </tr>\n",
              "  </tbody>\n",
              "</table>\n",
              "</div>\n",
              "    <div class=\"colab-df-buttons\">\n",
              "\n",
              "  <div class=\"colab-df-container\">\n",
              "    <button class=\"colab-df-convert\" onclick=\"convertToInteractive('df-4de5b0c7-1eff-4f7a-ba85-27a457932ee5')\"\n",
              "            title=\"Convert this dataframe to an interactive table.\"\n",
              "            style=\"display:none;\">\n",
              "\n",
              "  <svg xmlns=\"http://www.w3.org/2000/svg\" height=\"24px\" viewBox=\"0 -960 960 960\">\n",
              "    <path d=\"M120-120v-720h720v720H120Zm60-500h600v-160H180v160Zm220 220h160v-160H400v160Zm0 220h160v-160H400v160ZM180-400h160v-160H180v160Zm440 0h160v-160H620v160ZM180-180h160v-160H180v160Zm440 0h160v-160H620v160Z\"/>\n",
              "  </svg>\n",
              "    </button>\n",
              "\n",
              "  <style>\n",
              "    .colab-df-container {\n",
              "      display:flex;\n",
              "      gap: 12px;\n",
              "    }\n",
              "\n",
              "    .colab-df-convert {\n",
              "      background-color: #E8F0FE;\n",
              "      border: none;\n",
              "      border-radius: 50%;\n",
              "      cursor: pointer;\n",
              "      display: none;\n",
              "      fill: #1967D2;\n",
              "      height: 32px;\n",
              "      padding: 0 0 0 0;\n",
              "      width: 32px;\n",
              "    }\n",
              "\n",
              "    .colab-df-convert:hover {\n",
              "      background-color: #E2EBFA;\n",
              "      box-shadow: 0px 1px 2px rgba(60, 64, 67, 0.3), 0px 1px 3px 1px rgba(60, 64, 67, 0.15);\n",
              "      fill: #174EA6;\n",
              "    }\n",
              "\n",
              "    .colab-df-buttons div {\n",
              "      margin-bottom: 4px;\n",
              "    }\n",
              "\n",
              "    [theme=dark] .colab-df-convert {\n",
              "      background-color: #3B4455;\n",
              "      fill: #D2E3FC;\n",
              "    }\n",
              "\n",
              "    [theme=dark] .colab-df-convert:hover {\n",
              "      background-color: #434B5C;\n",
              "      box-shadow: 0px 1px 3px 1px rgba(0, 0, 0, 0.15);\n",
              "      filter: drop-shadow(0px 1px 2px rgba(0, 0, 0, 0.3));\n",
              "      fill: #FFFFFF;\n",
              "    }\n",
              "  </style>\n",
              "\n",
              "    <script>\n",
              "      const buttonEl =\n",
              "        document.querySelector('#df-4de5b0c7-1eff-4f7a-ba85-27a457932ee5 button.colab-df-convert');\n",
              "      buttonEl.style.display =\n",
              "        google.colab.kernel.accessAllowed ? 'block' : 'none';\n",
              "\n",
              "      async function convertToInteractive(key) {\n",
              "        const element = document.querySelector('#df-4de5b0c7-1eff-4f7a-ba85-27a457932ee5');\n",
              "        const dataTable =\n",
              "          await google.colab.kernel.invokeFunction('convertToInteractive',\n",
              "                                                    [key], {});\n",
              "        if (!dataTable) return;\n",
              "\n",
              "        const docLinkHtml = 'Like what you see? Visit the ' +\n",
              "          '<a target=\"_blank\" href=https://colab.research.google.com/notebooks/data_table.ipynb>data table notebook</a>'\n",
              "          + ' to learn more about interactive tables.';\n",
              "        element.innerHTML = '';\n",
              "        dataTable['output_type'] = 'display_data';\n",
              "        await google.colab.output.renderOutput(dataTable, element);\n",
              "        const docLink = document.createElement('div');\n",
              "        docLink.innerHTML = docLinkHtml;\n",
              "        element.appendChild(docLink);\n",
              "      }\n",
              "    </script>\n",
              "  </div>\n",
              "\n",
              "\n",
              "<div id=\"df-27da072f-6d0a-4dc3-8d08-5878928aa40a\">\n",
              "  <button class=\"colab-df-quickchart\" onclick=\"quickchart('df-27da072f-6d0a-4dc3-8d08-5878928aa40a')\"\n",
              "            title=\"Suggest charts\"\n",
              "            style=\"display:none;\">\n",
              "\n",
              "<svg xmlns=\"http://www.w3.org/2000/svg\" height=\"24px\"viewBox=\"0 0 24 24\"\n",
              "     width=\"24px\">\n",
              "    <g>\n",
              "        <path d=\"M19 3H5c-1.1 0-2 .9-2 2v14c0 1.1.9 2 2 2h14c1.1 0 2-.9 2-2V5c0-1.1-.9-2-2-2zM9 17H7v-7h2v7zm4 0h-2V7h2v10zm4 0h-2v-4h2v4z\"/>\n",
              "    </g>\n",
              "</svg>\n",
              "  </button>\n",
              "\n",
              "<style>\n",
              "  .colab-df-quickchart {\n",
              "      --bg-color: #E8F0FE;\n",
              "      --fill-color: #1967D2;\n",
              "      --hover-bg-color: #E2EBFA;\n",
              "      --hover-fill-color: #174EA6;\n",
              "      --disabled-fill-color: #AAA;\n",
              "      --disabled-bg-color: #DDD;\n",
              "  }\n",
              "\n",
              "  [theme=dark] .colab-df-quickchart {\n",
              "      --bg-color: #3B4455;\n",
              "      --fill-color: #D2E3FC;\n",
              "      --hover-bg-color: #434B5C;\n",
              "      --hover-fill-color: #FFFFFF;\n",
              "      --disabled-bg-color: #3B4455;\n",
              "      --disabled-fill-color: #666;\n",
              "  }\n",
              "\n",
              "  .colab-df-quickchart {\n",
              "    background-color: var(--bg-color);\n",
              "    border: none;\n",
              "    border-radius: 50%;\n",
              "    cursor: pointer;\n",
              "    display: none;\n",
              "    fill: var(--fill-color);\n",
              "    height: 32px;\n",
              "    padding: 0;\n",
              "    width: 32px;\n",
              "  }\n",
              "\n",
              "  .colab-df-quickchart:hover {\n",
              "    background-color: var(--hover-bg-color);\n",
              "    box-shadow: 0 1px 2px rgba(60, 64, 67, 0.3), 0 1px 3px 1px rgba(60, 64, 67, 0.15);\n",
              "    fill: var(--button-hover-fill-color);\n",
              "  }\n",
              "\n",
              "  .colab-df-quickchart-complete:disabled,\n",
              "  .colab-df-quickchart-complete:disabled:hover {\n",
              "    background-color: var(--disabled-bg-color);\n",
              "    fill: var(--disabled-fill-color);\n",
              "    box-shadow: none;\n",
              "  }\n",
              "\n",
              "  .colab-df-spinner {\n",
              "    border: 2px solid var(--fill-color);\n",
              "    border-color: transparent;\n",
              "    border-bottom-color: var(--fill-color);\n",
              "    animation:\n",
              "      spin 1s steps(1) infinite;\n",
              "  }\n",
              "\n",
              "  @keyframes spin {\n",
              "    0% {\n",
              "      border-color: transparent;\n",
              "      border-bottom-color: var(--fill-color);\n",
              "      border-left-color: var(--fill-color);\n",
              "    }\n",
              "    20% {\n",
              "      border-color: transparent;\n",
              "      border-left-color: var(--fill-color);\n",
              "      border-top-color: var(--fill-color);\n",
              "    }\n",
              "    30% {\n",
              "      border-color: transparent;\n",
              "      border-left-color: var(--fill-color);\n",
              "      border-top-color: var(--fill-color);\n",
              "      border-right-color: var(--fill-color);\n",
              "    }\n",
              "    40% {\n",
              "      border-color: transparent;\n",
              "      border-right-color: var(--fill-color);\n",
              "      border-top-color: var(--fill-color);\n",
              "    }\n",
              "    60% {\n",
              "      border-color: transparent;\n",
              "      border-right-color: var(--fill-color);\n",
              "    }\n",
              "    80% {\n",
              "      border-color: transparent;\n",
              "      border-right-color: var(--fill-color);\n",
              "      border-bottom-color: var(--fill-color);\n",
              "    }\n",
              "    90% {\n",
              "      border-color: transparent;\n",
              "      border-bottom-color: var(--fill-color);\n",
              "    }\n",
              "  }\n",
              "</style>\n",
              "\n",
              "  <script>\n",
              "    async function quickchart(key) {\n",
              "      const quickchartButtonEl =\n",
              "        document.querySelector('#' + key + ' button');\n",
              "      quickchartButtonEl.disabled = true;  // To prevent multiple clicks.\n",
              "      quickchartButtonEl.classList.add('colab-df-spinner');\n",
              "      try {\n",
              "        const charts = await google.colab.kernel.invokeFunction(\n",
              "            'suggestCharts', [key], {});\n",
              "      } catch (error) {\n",
              "        console.error('Error during call to suggestCharts:', error);\n",
              "      }\n",
              "      quickchartButtonEl.classList.remove('colab-df-spinner');\n",
              "      quickchartButtonEl.classList.add('colab-df-quickchart-complete');\n",
              "    }\n",
              "    (() => {\n",
              "      let quickchartButtonEl =\n",
              "        document.querySelector('#df-27da072f-6d0a-4dc3-8d08-5878928aa40a button');\n",
              "      quickchartButtonEl.style.display =\n",
              "        google.colab.kernel.accessAllowed ? 'block' : 'none';\n",
              "    })();\n",
              "  </script>\n",
              "</div>\n",
              "\n",
              "    </div>\n",
              "  </div>\n"
            ]
          },
          "metadata": {},
          "execution_count": 7
        }
      ]
    },
    {
      "cell_type": "code",
      "source": [
        "import tensorflow as tf\n",
        "print(\"TensorFlow version:\", tf.__version__)"
      ],
      "metadata": {
        "colab": {
          "base_uri": "https://localhost:8080/"
        },
        "id": "pM0fxBxN_BhN",
        "outputId": "a986c424-90d6-4dcc-9877-fd777843838b"
      },
      "execution_count": 8,
      "outputs": [
        {
          "output_type": "stream",
          "name": "stdout",
          "text": [
            "TensorFlow version: 2.9.0\n"
          ]
        }
      ]
    },
    {
      "cell_type": "code",
      "source": [
        "#This is to split the dataset into training & testing. we need scikit-learn for that\n",
        "pip install scikit-learn"
      ],
      "metadata": {
        "colab": {
          "base_uri": "https://localhost:8080/"
        },
        "id": "7GzYIZIyDD7y",
        "outputId": "ef30c546-2e26-4912-a328-92ff5e85dc66"
      },
      "execution_count": 9,
      "outputs": [
        {
          "output_type": "stream",
          "name": "stdout",
          "text": [
            "Requirement already satisfied: scikit-learn in /usr/local/lib/python3.10/dist-packages (1.2.2)\n",
            "Requirement already satisfied: numpy>=1.17.3 in /usr/local/lib/python3.10/dist-packages (from scikit-learn) (1.23.5)\n",
            "Requirement already satisfied: scipy>=1.3.2 in /usr/local/lib/python3.10/dist-packages (from scikit-learn) (1.11.4)\n",
            "Requirement already satisfied: joblib>=1.1.1 in /usr/local/lib/python3.10/dist-packages (from scikit-learn) (1.3.2)\n",
            "Requirement already satisfied: threadpoolctl>=2.0.0 in /usr/local/lib/python3.10/dist-packages (from scikit-learn) (3.2.0)\n"
          ]
        }
      ]
    },
    {
      "cell_type": "markdown",
      "source": [
        "### **The dataset has no null values nor any issues. Let's try to create a regression model to identify how the engine size effects CO2 emission.**"
      ],
      "metadata": {
        "id": "IGXdVemhBIRU"
      }
    },
    {
      "cell_type": "code",
      "source": [
        "from sklearn.model_selection import train_test_split\n",
        "\n",
        "#We take them into numpy array because numpy is efficient with tensorflow\n",
        "X = np.asanyarray(df['Engine size (L)'])\n",
        "Y = np.asanyarray(df['CO2 emissions (g/km)'])\n",
        "\n",
        "#Lets split the dataset into training & testing\n",
        "X_train, X_test, Y_train, Y_test = train_test_split(X, Y, test_size=0.2, random_state=42)"
      ],
      "metadata": {
        "id": "hLn3sYlg_dZN"
      },
      "execution_count": 10,
      "outputs": []
    },
    {
      "cell_type": "markdown",
      "source": [
        "### **As we can remember Y = W.X + b is the formular for linear regression. We have to find the ideal W (weights) & b (biase) vaues to find the best model. To start the proceedings we have to initialize the W & b.**"
      ],
      "metadata": {
        "id": "qdV18uHDDwXX"
      }
    },
    {
      "cell_type": "code",
      "source": [
        "#Lets initialie W & b with tensorflow variables\n",
        "W = tf.Variable(20.0)\n",
        "b = tf.Variable(30.2)\n",
        "\n",
        "#Let's create the hypothesis function for the regression model. When X is passed through, you get the predicted value (Y)\n",
        "def RegModel(X):\n",
        "   Y = W*X + b\n",
        "   return Y"
      ],
      "metadata": {
        "id": "cL8Dj-V-Dgsb"
      },
      "execution_count": 12,
      "outputs": []
    },
    {
      "cell_type": "markdown",
      "source": [
        "### **We also have to define the loss function for this regression model which calculates the square error of the difference between actual and predicted values.**"
      ],
      "metadata": {
        "id": "moC-x6ZqF6-E"
      }
    },
    {
      "cell_type": "code",
      "source": [
        "def loss_object(y,train_y) :\n",
        "    return tf.reduce_mean(tf.square(y - train_y))\n",
        "    #tf.square() produces the square value of the difference of the given two values.\n",
        "    #tf.reduce_mean provides the mean of the square values (when tensor is a miltifdimentional one this is useful)\n",
        "\n",
        "    #Below is a predefined method offered by TensorFlow to calculate loss function\n",
        "    #loss_object = tf.keras.losses.MeanSquaredLogarithmicError()"
      ],
      "metadata": {
        "id": "NU6gH5gEFfvQ"
      },
      "execution_count": 14,
      "outputs": []
    },
    {
      "cell_type": "code",
      "source": [
        "#folowing arrays are defined just to take values & display in graphs. Nthing else.\n",
        "train_data = []\n",
        "loss_values =[]\n",
        "W_values = []\n",
        "b_values = []\n",
        "\n",
        "#steps of looping through all your data to update the parameters\n",
        "training_epochs = 200\n",
        "#learning rate\n",
        "learning_rate = 0.01\n",
        "\n",
        "\n",
        "# train model\n",
        "for epoch in range(training_epochs):\n",
        "    with tf.GradientTape() as tape: #This will keep track of operations taking place inside of it. This tracking is used to compute gradients, which are essential for the optimization process in training neural networks.\n",
        "        Y_predict = RegModel(X_train)\n",
        "        loss_value = loss_object(Y_train,Y_predict)\n",
        "        loss_values.append(loss_value) #Let's just keep track of the loss value to plot them later\n",
        "\n",
        "        # get gradients. Remember gradient defines the direction towards the minimization of loss value with respect to the Weights and biase.\n",
        "        #It will help to ientify the optimul weight and biase values for the model.\n",
        "        gradients = tape.gradient(loss_value, [W,b])\n",
        "\n",
        "        # compute and adjust weights\n",
        "        #first just record the current W & b values.\n",
        "        W_values.append(W.numpy())\n",
        "        b_values.append(b.numpy())\n",
        "\n",
        "        #Adjust the weight & biase\n",
        "        W.assign_sub(gradients[0]*learning_rate)\n",
        "        b.assign_sub(gradients[1]*learning_rate)\n",
        "        if epoch % 5 == 0:\n",
        "            train_data.append([W.numpy(), b.numpy()])\n",
        "            #This is also to keep track record of train data to display later. nothing else"
      ],
      "metadata": {
        "id": "5HMOs0ISH6Vy"
      },
      "execution_count": 15,
      "outputs": []
    },
    {
      "cell_type": "markdown",
      "source": [
        "### **Lets just plot how the loss values have changed over time.**"
      ],
      "metadata": {
        "id": "xLDArMGcLA83"
      }
    },
    {
      "cell_type": "code",
      "source": [
        "import matplotlib.pyplot as plt\n",
        "\n",
        "plt.xlabel(\"Epoch\")\n",
        "plt.ylabel(\"Loss\")\n",
        "plt.plot(loss_values, 'ro')"
      ],
      "metadata": {
        "colab": {
          "base_uri": "https://localhost:8080/",
          "height": 467
        },
        "id": "t2qHF_h0KzoP",
        "outputId": "8da0afee-d002-4aa2-ee3c-e8c4483fd330"
      },
      "execution_count": 17,
      "outputs": [
        {
          "output_type": "execute_result",
          "data": {
            "text/plain": [
              "[<matplotlib.lines.Line2D at 0x789f8ce37fd0>]"
            ]
          },
          "metadata": {},
          "execution_count": 17
        },
        {
          "output_type": "display_data",
          "data": {
            "text/plain": [
              "<Figure size 640x480 with 1 Axes>"
            ],
            "image/png": "[encoded data removed]"
          },
          "metadata": {}
        }
      ]
    },
    {
      "cell_type": "markdown",
      "source": [
        "### **Let's evaluate the model now using the test data.**"
      ],
      "metadata": {
        "id": "rxas869YLtmV"
      }
    },
    {
      "cell_type": "code",
      "source": [
        "# Predict on test data\n",
        "Y_pred_test = RegModel(X_test)\n",
        "\n",
        "# Calculate loss on test data\n",
        "test_loss = loss_object(Y_test, Y_pred_test)\n",
        "\n",
        "print(f\"Test Loss: {test_loss.numpy()}\")"
      ],
      "metadata": {
        "colab": {
          "base_uri": "https://localhost:8080/"
        },
        "id": "dFYxRNaULzEp",
        "outputId": "3878596b-a9e9-4433-9ce4-7eef7845cdb7"
      },
      "execution_count": 18,
      "outputs": [
        {
          "output_type": "stream",
          "name": "stdout",
          "text": [
            "Test Loss: 1765.29736328125\n"
          ]
        }
      ]
    },
    {
      "cell_type": "code",
      "source": [
        "# Predict on test data\n",
        "Y_pred_test = RegModel(X_test)\n",
        "\n",
        "# Calculate loss on test data using two different metrices\n",
        "MSLE = tf.keras.losses.MeanSquaredLogarithmicError()\n",
        "MSE = tf.keras.losses.MeanSquaredError()\n",
        "\n",
        "MSLE_Value = MSLE(Y_test, Y_pred_test)\n",
        "MSE_Value = MSE(Y_test, Y_pred_test)\n",
        "\n",
        "print(f\"Test Loss: {MSLE_Value.numpy()}\")\n",
        "print(f\"Test Loss: {MSE_Value.numpy()}\")"
      ],
      "metadata": {
        "colab": {
          "base_uri": "https://localhost:8080/"
        },
        "id": "FiemW80KMNH5",
        "outputId": "4a8e173e-a5c5-440b-d1d7-e4c0b560d44e"
      },
      "execution_count": 22,
      "outputs": [
        {
          "output_type": "stream",
          "name": "stdout",
          "text": [
            "Test Loss: 0.03030146285891533\n",
            "Test Loss: 1765.29736328125\n"
          ]
        }
      ]
    }
  ]
}